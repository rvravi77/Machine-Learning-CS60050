{
  "nbformat": 4,
  "nbformat_minor": 0,
  "metadata": {
    "colab": {
      "name": "ML A3",
      "provenance": [],
      "collapsed_sections": []
    },
    "kernelspec": {
      "display_name": "Python 3",
      "name": "python3"
    },
    "accelerator": "GPU"
  },
  "cells": [
    {
      "cell_type": "markdown",
      "metadata": {
        "id": "S1RZvtZ1KMab"
      },
      "source": [
        "#Task 1\n"
      ]
    },
    {
      "cell_type": "markdown",
      "metadata": {
        "id": "4q4945l_KPLe"
      },
      "source": [
        "#part a\n"
      ]
    },
    {
      "cell_type": "code",
      "metadata": {
        "id": "CHxH7v9aUq5M"
      },
      "source": [
        "from mpl_toolkits.mplot3d import Axes3D\n",
        "from sklearn.preprocessing import StandardScaler\n",
        "import matplotlib.pyplot as plt # plotting\n",
        "import numpy as np # linear algebra\n",
        "import os # accessing directory structure\n",
        "import pandas as pd # data processing, CSV file I/O (e.g. pd.read_csv)\n",
        "from matplotlib.colors import Normalize\n",
        "from sklearn.svm import SVC\n",
        "from sklearn.model_selection import StratifiedShuffleSplit\n",
        "from sklearn.model_selection import GridSearchCV\n",
        "from sklearn.decomposition import PCA\n",
        "\n"
      ],
      "execution_count": 6,
      "outputs": []
    },
    {
      "cell_type": "code",
      "metadata": {
        "id": "jOHhkxV-VGzZ"
      },
      "source": [
        "import requests\n",
        "from io import StringIO\n",
        "orig_url='https://drive.google.com/file/d/1b67gIURmd06jQA1nKoa1Dh-_P1pHfaIW/view?usp=sharing'\n",
        "\n",
        "file_id = orig_url.split('/')[-2]\n",
        "dwn_url='https://drive.google.com/uc?export=download&id=' + file_id\n",
        "url = requests.get(dwn_url).text\n",
        "csv_raw = StringIO(url)\n",
        "data = pd.read_csv(csv_raw)"
      ],
      "execution_count": 7,
      "outputs": []
    },
    {
      "cell_type": "code",
      "metadata": {
        "id": "Rnf0D2FrbwZ-",
        "outputId": "8a753318-c74e-4093-948b-d9e494fb7c97",
        "colab": {
          "base_uri": "https://localhost:8080/"
        }
      },
      "source": [
        "print(data)"
      ],
      "execution_count": 8,
      "outputs": [
        {
          "output_type": "stream",
          "text": [
            "      id   DGN  PRE4  PRE5  PRE6 PRE7  ... PRE19 PRE25 PRE30 PRE32 AGE Risk1Yr\n",
            "0      1  DGN2  2.88  2.16  PRZ1    F  ...     F     F     T     F  60       F\n",
            "1      2  DGN3  3.40  1.88  PRZ0    F  ...     F     F     T     F  51       F\n",
            "2      3  DGN3  2.76  2.08  PRZ1    F  ...     F     F     T     F  59       F\n",
            "3      4  DGN3  3.68  3.04  PRZ0    F  ...     F     F     F     F  54       F\n",
            "4      5  DGN3  2.44  0.96  PRZ2    F  ...     F     F     T     F  73       T\n",
            "..   ...   ...   ...   ...   ...  ...  ...   ...   ...   ...   ...  ..     ...\n",
            "465  466  DGN2  3.88  2.12  PRZ1    F  ...     F     F     T     F  63       F\n",
            "466  467  DGN3  3.76  3.12  PRZ0    F  ...     F     F     T     F  61       F\n",
            "467  468  DGN3  3.04  2.08  PRZ1    F  ...     F     F     F     F  52       F\n",
            "468  469  DGN3  1.96  1.68  PRZ1    F  ...     F     F     T     F  79       F\n",
            "469  470  DGN3  4.72  3.56  PRZ0    F  ...     F     F     T     F  51       F\n",
            "\n",
            "[470 rows x 18 columns]\n"
          ],
          "name": "stdout"
        }
      ]
    },
    {
      "cell_type": "code",
      "metadata": {
        "id": "aeyQ7k5oVMNd",
        "outputId": "ce455490-94d4-4554-b049-2d874f2f1c01",
        "colab": {
          "base_uri": "https://localhost:8080/",
          "height": 204
        }
      },
      "source": [
        "data=data.drop('id', axis=1)\n",
        "data.head(5)"
      ],
      "execution_count": 9,
      "outputs": [
        {
          "output_type": "execute_result",
          "data": {
            "text/html": [
              "<div>\n",
              "<style scoped>\n",
              "    .dataframe tbody tr th:only-of-type {\n",
              "        vertical-align: middle;\n",
              "    }\n",
              "\n",
              "    .dataframe tbody tr th {\n",
              "        vertical-align: top;\n",
              "    }\n",
              "\n",
              "    .dataframe thead th {\n",
              "        text-align: right;\n",
              "    }\n",
              "</style>\n",
              "<table border=\"1\" class=\"dataframe\">\n",
              "  <thead>\n",
              "    <tr style=\"text-align: right;\">\n",
              "      <th></th>\n",
              "      <th>DGN</th>\n",
              "      <th>PRE4</th>\n",
              "      <th>PRE5</th>\n",
              "      <th>PRE6</th>\n",
              "      <th>PRE7</th>\n",
              "      <th>PRE8</th>\n",
              "      <th>PRE9</th>\n",
              "      <th>PRE10</th>\n",
              "      <th>PRE11</th>\n",
              "      <th>PRE14</th>\n",
              "      <th>PRE17</th>\n",
              "      <th>PRE19</th>\n",
              "      <th>PRE25</th>\n",
              "      <th>PRE30</th>\n",
              "      <th>PRE32</th>\n",
              "      <th>AGE</th>\n",
              "      <th>Risk1Yr</th>\n",
              "    </tr>\n",
              "  </thead>\n",
              "  <tbody>\n",
              "    <tr>\n",
              "      <th>0</th>\n",
              "      <td>DGN2</td>\n",
              "      <td>2.88</td>\n",
              "      <td>2.16</td>\n",
              "      <td>PRZ1</td>\n",
              "      <td>F</td>\n",
              "      <td>F</td>\n",
              "      <td>F</td>\n",
              "      <td>T</td>\n",
              "      <td>T</td>\n",
              "      <td>OC14</td>\n",
              "      <td>F</td>\n",
              "      <td>F</td>\n",
              "      <td>F</td>\n",
              "      <td>T</td>\n",
              "      <td>F</td>\n",
              "      <td>60</td>\n",
              "      <td>F</td>\n",
              "    </tr>\n",
              "    <tr>\n",
              "      <th>1</th>\n",
              "      <td>DGN3</td>\n",
              "      <td>3.40</td>\n",
              "      <td>1.88</td>\n",
              "      <td>PRZ0</td>\n",
              "      <td>F</td>\n",
              "      <td>F</td>\n",
              "      <td>F</td>\n",
              "      <td>F</td>\n",
              "      <td>F</td>\n",
              "      <td>OC12</td>\n",
              "      <td>F</td>\n",
              "      <td>F</td>\n",
              "      <td>F</td>\n",
              "      <td>T</td>\n",
              "      <td>F</td>\n",
              "      <td>51</td>\n",
              "      <td>F</td>\n",
              "    </tr>\n",
              "    <tr>\n",
              "      <th>2</th>\n",
              "      <td>DGN3</td>\n",
              "      <td>2.76</td>\n",
              "      <td>2.08</td>\n",
              "      <td>PRZ1</td>\n",
              "      <td>F</td>\n",
              "      <td>F</td>\n",
              "      <td>F</td>\n",
              "      <td>T</td>\n",
              "      <td>F</td>\n",
              "      <td>OC11</td>\n",
              "      <td>F</td>\n",
              "      <td>F</td>\n",
              "      <td>F</td>\n",
              "      <td>T</td>\n",
              "      <td>F</td>\n",
              "      <td>59</td>\n",
              "      <td>F</td>\n",
              "    </tr>\n",
              "    <tr>\n",
              "      <th>3</th>\n",
              "      <td>DGN3</td>\n",
              "      <td>3.68</td>\n",
              "      <td>3.04</td>\n",
              "      <td>PRZ0</td>\n",
              "      <td>F</td>\n",
              "      <td>F</td>\n",
              "      <td>F</td>\n",
              "      <td>F</td>\n",
              "      <td>F</td>\n",
              "      <td>OC11</td>\n",
              "      <td>F</td>\n",
              "      <td>F</td>\n",
              "      <td>F</td>\n",
              "      <td>F</td>\n",
              "      <td>F</td>\n",
              "      <td>54</td>\n",
              "      <td>F</td>\n",
              "    </tr>\n",
              "    <tr>\n",
              "      <th>4</th>\n",
              "      <td>DGN3</td>\n",
              "      <td>2.44</td>\n",
              "      <td>0.96</td>\n",
              "      <td>PRZ2</td>\n",
              "      <td>F</td>\n",
              "      <td>T</td>\n",
              "      <td>F</td>\n",
              "      <td>T</td>\n",
              "      <td>T</td>\n",
              "      <td>OC11</td>\n",
              "      <td>F</td>\n",
              "      <td>F</td>\n",
              "      <td>F</td>\n",
              "      <td>T</td>\n",
              "      <td>F</td>\n",
              "      <td>73</td>\n",
              "      <td>T</td>\n",
              "    </tr>\n",
              "  </tbody>\n",
              "</table>\n",
              "</div>"
            ],
            "text/plain": [
              "    DGN  PRE4  PRE5  PRE6 PRE7 PRE8  ... PRE19 PRE25 PRE30 PRE32 AGE Risk1Yr\n",
              "0  DGN2  2.88  2.16  PRZ1    F    F  ...     F     F     T     F  60       F\n",
              "1  DGN3  3.40  1.88  PRZ0    F    F  ...     F     F     T     F  51       F\n",
              "2  DGN3  2.76  2.08  PRZ1    F    F  ...     F     F     T     F  59       F\n",
              "3  DGN3  3.68  3.04  PRZ0    F    F  ...     F     F     F     F  54       F\n",
              "4  DGN3  2.44  0.96  PRZ2    F    T  ...     F     F     T     F  73       T\n",
              "\n",
              "[5 rows x 17 columns]"
            ]
          },
          "metadata": {
            "tags": []
          },
          "execution_count": 9
        }
      ]
    },
    {
      "cell_type": "code",
      "metadata": {
        "id": "Sq2kUVkGY3EU",
        "outputId": "e923ed01-c27e-4249-c798-63309bb2c71e",
        "colab": {
          "base_uri": "https://localhost:8080/"
        }
      },
      "source": [
        "data.describe"
      ],
      "execution_count": 10,
      "outputs": [
        {
          "output_type": "execute_result",
          "data": {
            "text/plain": [
              "<bound method NDFrame.describe of       DGN  PRE4  PRE5  PRE6 PRE7 PRE8  ... PRE19 PRE25 PRE30 PRE32 AGE Risk1Yr\n",
              "0    DGN2  2.88  2.16  PRZ1    F    F  ...     F     F     T     F  60       F\n",
              "1    DGN3  3.40  1.88  PRZ0    F    F  ...     F     F     T     F  51       F\n",
              "2    DGN3  2.76  2.08  PRZ1    F    F  ...     F     F     T     F  59       F\n",
              "3    DGN3  3.68  3.04  PRZ0    F    F  ...     F     F     F     F  54       F\n",
              "4    DGN3  2.44  0.96  PRZ2    F    T  ...     F     F     T     F  73       T\n",
              "..    ...   ...   ...   ...  ...  ...  ...   ...   ...   ...   ...  ..     ...\n",
              "465  DGN2  3.88  2.12  PRZ1    F    F  ...     F     F     T     F  63       F\n",
              "466  DGN3  3.76  3.12  PRZ0    F    F  ...     F     F     T     F  61       F\n",
              "467  DGN3  3.04  2.08  PRZ1    F    F  ...     F     F     F     F  52       F\n",
              "468  DGN3  1.96  1.68  PRZ1    F    F  ...     F     F     T     F  79       F\n",
              "469  DGN3  4.72  3.56  PRZ0    F    F  ...     F     F     T     F  51       F\n",
              "\n",
              "[470 rows x 17 columns]>"
            ]
          },
          "metadata": {
            "tags": []
          },
          "execution_count": 10
        }
      ]
    },
    {
      "cell_type": "code",
      "metadata": {
        "id": "XX3Q_MksY-DJ"
      },
      "source": [
        "data[['PRE7', 'PRE8', 'PRE9', 'PRE10', 'PRE11', 'PRE17', 'PRE19', 'PRE25', 'PRE30', 'PRE32', 'Risk1Yr']] = \\\n",
        "(data[['PRE7', 'PRE8', 'PRE9', 'PRE10', 'PRE11', 'PRE17', 'PRE19', 'PRE25', 'PRE30', 'PRE32', 'Risk1Yr']] == 'T').astype(int)\n",
        "data['DGN']   = data['DGN'].str[-1:].astype(int)\n",
        "data['PRE6']  = data['PRE6'].str[-1:].astype(int)\n",
        "data['PRE14'] = data['PRE14'].str[-1:].astype(int)"
      ],
      "execution_count": 11,
      "outputs": []
    },
    {
      "cell_type": "code",
      "metadata": {
        "id": "rYOJPKFLdmVs",
        "outputId": "dd6053ab-f9e1-49b0-d5c1-cd8bbdf493a6",
        "colab": {
          "base_uri": "https://localhost:8080/",
          "height": 204
        }
      },
      "source": [
        "data.head(5)"
      ],
      "execution_count": 12,
      "outputs": [
        {
          "output_type": "execute_result",
          "data": {
            "text/html": [
              "<div>\n",
              "<style scoped>\n",
              "    .dataframe tbody tr th:only-of-type {\n",
              "        vertical-align: middle;\n",
              "    }\n",
              "\n",
              "    .dataframe tbody tr th {\n",
              "        vertical-align: top;\n",
              "    }\n",
              "\n",
              "    .dataframe thead th {\n",
              "        text-align: right;\n",
              "    }\n",
              "</style>\n",
              "<table border=\"1\" class=\"dataframe\">\n",
              "  <thead>\n",
              "    <tr style=\"text-align: right;\">\n",
              "      <th></th>\n",
              "      <th>DGN</th>\n",
              "      <th>PRE4</th>\n",
              "      <th>PRE5</th>\n",
              "      <th>PRE6</th>\n",
              "      <th>PRE7</th>\n",
              "      <th>PRE8</th>\n",
              "      <th>PRE9</th>\n",
              "      <th>PRE10</th>\n",
              "      <th>PRE11</th>\n",
              "      <th>PRE14</th>\n",
              "      <th>PRE17</th>\n",
              "      <th>PRE19</th>\n",
              "      <th>PRE25</th>\n",
              "      <th>PRE30</th>\n",
              "      <th>PRE32</th>\n",
              "      <th>AGE</th>\n",
              "      <th>Risk1Yr</th>\n",
              "    </tr>\n",
              "  </thead>\n",
              "  <tbody>\n",
              "    <tr>\n",
              "      <th>0</th>\n",
              "      <td>2</td>\n",
              "      <td>2.88</td>\n",
              "      <td>2.16</td>\n",
              "      <td>1</td>\n",
              "      <td>0</td>\n",
              "      <td>0</td>\n",
              "      <td>0</td>\n",
              "      <td>1</td>\n",
              "      <td>1</td>\n",
              "      <td>4</td>\n",
              "      <td>0</td>\n",
              "      <td>0</td>\n",
              "      <td>0</td>\n",
              "      <td>1</td>\n",
              "      <td>0</td>\n",
              "      <td>60</td>\n",
              "      <td>0</td>\n",
              "    </tr>\n",
              "    <tr>\n",
              "      <th>1</th>\n",
              "      <td>3</td>\n",
              "      <td>3.40</td>\n",
              "      <td>1.88</td>\n",
              "      <td>0</td>\n",
              "      <td>0</td>\n",
              "      <td>0</td>\n",
              "      <td>0</td>\n",
              "      <td>0</td>\n",
              "      <td>0</td>\n",
              "      <td>2</td>\n",
              "      <td>0</td>\n",
              "      <td>0</td>\n",
              "      <td>0</td>\n",
              "      <td>1</td>\n",
              "      <td>0</td>\n",
              "      <td>51</td>\n",
              "      <td>0</td>\n",
              "    </tr>\n",
              "    <tr>\n",
              "      <th>2</th>\n",
              "      <td>3</td>\n",
              "      <td>2.76</td>\n",
              "      <td>2.08</td>\n",
              "      <td>1</td>\n",
              "      <td>0</td>\n",
              "      <td>0</td>\n",
              "      <td>0</td>\n",
              "      <td>1</td>\n",
              "      <td>0</td>\n",
              "      <td>1</td>\n",
              "      <td>0</td>\n",
              "      <td>0</td>\n",
              "      <td>0</td>\n",
              "      <td>1</td>\n",
              "      <td>0</td>\n",
              "      <td>59</td>\n",
              "      <td>0</td>\n",
              "    </tr>\n",
              "    <tr>\n",
              "      <th>3</th>\n",
              "      <td>3</td>\n",
              "      <td>3.68</td>\n",
              "      <td>3.04</td>\n",
              "      <td>0</td>\n",
              "      <td>0</td>\n",
              "      <td>0</td>\n",
              "      <td>0</td>\n",
              "      <td>0</td>\n",
              "      <td>0</td>\n",
              "      <td>1</td>\n",
              "      <td>0</td>\n",
              "      <td>0</td>\n",
              "      <td>0</td>\n",
              "      <td>0</td>\n",
              "      <td>0</td>\n",
              "      <td>54</td>\n",
              "      <td>0</td>\n",
              "    </tr>\n",
              "    <tr>\n",
              "      <th>4</th>\n",
              "      <td>3</td>\n",
              "      <td>2.44</td>\n",
              "      <td>0.96</td>\n",
              "      <td>2</td>\n",
              "      <td>0</td>\n",
              "      <td>1</td>\n",
              "      <td>0</td>\n",
              "      <td>1</td>\n",
              "      <td>1</td>\n",
              "      <td>1</td>\n",
              "      <td>0</td>\n",
              "      <td>0</td>\n",
              "      <td>0</td>\n",
              "      <td>1</td>\n",
              "      <td>0</td>\n",
              "      <td>73</td>\n",
              "      <td>1</td>\n",
              "    </tr>\n",
              "  </tbody>\n",
              "</table>\n",
              "</div>"
            ],
            "text/plain": [
              "   DGN  PRE4  PRE5  PRE6  PRE7  PRE8  ...  PRE19  PRE25  PRE30  PRE32  AGE  Risk1Yr\n",
              "0    2  2.88  2.16     1     0     0  ...      0      0      1      0   60        0\n",
              "1    3  3.40  1.88     0     0     0  ...      0      0      1      0   51        0\n",
              "2    3  2.76  2.08     1     0     0  ...      0      0      1      0   59        0\n",
              "3    3  3.68  3.04     0     0     0  ...      0      0      0      0   54        0\n",
              "4    3  2.44  0.96     2     0     1  ...      0      0      1      0   73        1\n",
              "\n",
              "[5 rows x 17 columns]"
            ]
          },
          "metadata": {
            "tags": []
          },
          "execution_count": 12
        }
      ]
    },
    {
      "cell_type": "code",
      "metadata": {
        "id": "gCCgHUx1Hz9b"
      },
      "source": [
        "from sklearn.model_selection import train_test_split \n",
        "# Feature selection -- To be implemented later on\n",
        "X = data.drop('Risk1Yr', axis=1) \n",
        "\n",
        "y = data.Risk1Yr \n",
        "# Splitting into train sets and test sets\n",
        "x_train, x_test, y_train, y_test = train_test_split(X, y, test_size = 0.2,random_state=107) \n",
        "                                                    "
      ],
      "execution_count": 13,
      "outputs": []
    },
    {
      "cell_type": "code",
      "metadata": {
        "id": "XEAGhTFGead8",
        "outputId": "29f177aa-26dd-44ca-a866-dc90c04a95eb",
        "colab": {
          "base_uri": "https://localhost:8080/"
        }
      },
      "source": [
        "from sklearn import metrics\n",
        "clflinear = SVC(kernel = 'linear',C=10,gamma=0.0001)\n",
        "#Train the model using the training sets\n",
        "clflinear.fit(x_train, y_train)\n",
        "#Predict the response for test dataset\n",
        "y_pred = clflinear.predict(x_train)\n",
        "y_pred1 = clflinear.predict(x_test)\n",
        "# Model Accuracy: how often is the classifier correct?\n",
        "print(\"Test Accuracy:\",metrics.accuracy_score(y_test, y_pred1))\n",
        "                    "
      ],
      "execution_count": 14,
      "outputs": [
        {
          "output_type": "stream",
          "text": [
            "Test Accuracy: 0.8404255319148937\n"
          ],
          "name": "stdout"
        }
      ]
    },
    {
      "cell_type": "code",
      "metadata": {
        "id": "UwyJpb1SecVE",
        "outputId": "4fc0b2d7-6b3a-41ee-85ba-32db1a1a07ba",
        "colab": {
          "base_uri": "https://localhost:8080/"
        }
      },
      "source": [
        "clfpoly = SVC(kernel = 'poly',degree=2,gamma=1,C=10)\n",
        "#Train the model using the training sets\n",
        "clfpoly.fit(x_train, y_train)\n",
        "#Predict the response for test dataset\n",
        "y_pred = clfpoly.predict(x_train)\n",
        "y_pred1 = clfpoly.predict(x_test)\n",
        "# Model Accuracy: how often is the classifier correct?\n",
        "print(\"Test Accuracy:\",metrics.accuracy_score(y_test, y_pred1))\n",
        "                    "
      ],
      "execution_count": 15,
      "outputs": [
        {
          "output_type": "stream",
          "text": [
            "Test Accuracy: 0.8191489361702128\n"
          ],
          "name": "stdout"
        }
      ]
    },
    {
      "cell_type": "code",
      "metadata": {
        "id": "kmN2cAYtOlLI",
        "outputId": "813560eb-9d43-42b3-ee1e-23ddbd703331",
        "colab": {
          "base_uri": "https://localhost:8080/"
        }
      },
      "source": [
        "clfrbf = SVC(kernel = 'rbf',C=100,gamma=0.0001)\n",
        "#Train the model using the training sets\n",
        "\n",
        "clfrbf.fit(x_train, y_train)\n",
        "#Predict the response for test dataset\n",
        "y_pred = clfrbf.predict(x_train)\n",
        "y_pred1 = clfrbf.predict(x_test)\n",
        "# Model Accuracy: how often is the classifier correct?\n",
        "print(\"Test Accuracy:\",metrics.accuracy_score(y_test, y_pred1))\n",
        "                    "
      ],
      "execution_count": 17,
      "outputs": [
        {
          "output_type": "stream",
          "text": [
            "Test Accuracy: 0.8404255319148937\n"
          ],
          "name": "stdout"
        }
      ]
    },
    {
      "cell_type": "markdown",
      "metadata": {
        "id": "BpoJ0bzAKIE-"
      },
      "source": [
        "##Part b"
      ]
    },
    {
      "cell_type": "code",
      "metadata": {
        "id": "2_S4Rc2kKSRr",
        "outputId": "ce181670-b6f6-4e5e-bc8d-1db468a2d878",
        "colab": {
          "base_uri": "https://localhost:8080/"
        }
      },
      "source": [
        "from sklearn.metrics import f1_score, fbeta_score, make_scorer ,accuracy_score\n",
        "ftwo_scorer=  make_scorer(fbeta_score, average='micro', beta=1)\n",
        "\n",
        "param_grid={\n",
        "            'kernel': ['linear'],\n",
        "            'C': [0.01,0.1, 1, 10, 100, 1000,10000],\n",
        "             }\n",
        "classifier=SVC()\n",
        "\n",
        "model=GridSearchCV(estimator=classifier, param_grid=param_grid, scoring=ftwo_scorer,verbose=10, n_jobs=4, cv=5)\n",
        "\n",
        "model.fit(x_train, y_train)\n",
        "print(\"Best score: %0.3f\" % model.best_score_)\n",
        "print(\"Best Parameters set:\")\n",
        "best_parameters=model.best_estimator_.get_params()\n",
        "\n",
        "for param_name in sorted(param_grid.keys()):\n",
        "    print(\"\\t%s: %r\" % (param_name, best_parameters[param_name]))\n",
        "#for train set accuracy\n",
        "predictions=model.predict(x_train)\n",
        "print(model.cv_results_['mean_test_score'])\n",
        "print(\"Train Accuracy :\" ,accuracy_score(y_train,predictions))\n",
        "\n",
        "#for test set accuracy\n",
        "predictions=model.predict(x_test)\n",
        "print(model.cv_results_['mean_test_score'])  \n",
        "print(\"Test Accuracy :\" ,accuracy_score(y_test,predictions))\n"
      ],
      "execution_count": 18,
      "outputs": [
        {
          "output_type": "stream",
          "text": [
            "Fitting 5 folds for each of 7 candidates, totalling 35 fits\n"
          ],
          "name": "stdout"
        },
        {
          "output_type": "stream",
          "text": [
            "[Parallel(n_jobs=4)]: Using backend LokyBackend with 4 concurrent workers.\n",
            "[Parallel(n_jobs=4)]: Done   5 tasks      | elapsed:    2.4s\n",
            "[Parallel(n_jobs=4)]: Done  10 tasks      | elapsed:    2.5s\n",
            "[Parallel(n_jobs=4)]: Done  17 tasks      | elapsed:   15.4s\n",
            "[Parallel(n_jobs=4)]: Done  24 tasks      | elapsed:   50.8s\n",
            "[Parallel(n_jobs=4)]: Done  32 out of  35 | elapsed:  1.6min remaining:    9.2s\n"
          ],
          "name": "stderr"
        },
        {
          "output_type": "stream",
          "text": [
            "Best score: 0.854\n",
            "Best Parameters set:\n",
            "\tC: 0.01\n",
            "\tkernel: 'linear'\n",
            "[0.8537193 0.8537193 0.8537193 0.8537193 0.8537193 0.8377193 0.8217193]\n",
            "Train Accuracy : 0.8537234042553191\n",
            "[0.8537193 0.8537193 0.8537193 0.8537193 0.8537193 0.8377193 0.8217193]\n",
            "Test Accuracy : 0.8404255319148937\n"
          ],
          "name": "stdout"
        },
        {
          "output_type": "stream",
          "text": [
            "[Parallel(n_jobs=4)]: Done  35 out of  35 | elapsed:  2.1min finished\n"
          ],
          "name": "stderr"
        }
      ]
    },
    {
      "cell_type": "code",
      "metadata": {
        "id": "0r0_otD-KTWe",
        "outputId": "52b7989f-3517-4df7-b028-ba97c93e0be0",
        "colab": {
          "base_uri": "https://localhost:8080/"
        }
      },
      "source": [
        "from sklearn.metrics import fbeta_score, make_scorer\n",
        "ftwo_scorer=metrics.make_scorer(fbeta_score, average='micro', beta=1)\n",
        "param_grid={\n",
        "            'kernel': ['poly'],\n",
        "            'C': [0.01,0.1, 1, 10, 100, 1000,10000],\n",
        "            'degree': [2]\n",
        "             }\n",
        "classifier=SVC()\n",
        "\n",
        "model=GridSearchCV(estimator=classifier, param_grid=param_grid, scoring=ftwo_scorer,verbose=10, n_jobs=4, cv=5)\n",
        "\n",
        "model.fit(x_train, y_train)\n",
        "print(\"Best score: %0.3f\" % model.best_score_)\n",
        "print(\"Best Parameters set:\")\n",
        "best_parameters=model.best_estimator_.get_params()\n",
        "\n",
        "for param_name in sorted(param_grid.keys()):\n",
        "    print(\"\\t%s: %r\" % (param_name, best_parameters[param_name]))\n",
        "\n",
        "#for train set accuracy\n",
        "predictions=model.predict(x_train)\n",
        "print(model.cv_results_['mean_test_score'])\n",
        "print(\"Train Accuracy :\" ,accuracy_score(y_train,predictions))\n",
        "\n",
        "#for test set accuracy\n",
        "predictions=model.predict(x_test)\n",
        "print(model.cv_results_['mean_test_score'])  \n",
        "print(\"Test Accuracy :\" ,accuracy_score(y_test,predictions))\n"
      ],
      "execution_count": 20,
      "outputs": [
        {
          "output_type": "stream",
          "text": [
            "Fitting 5 folds for each of 7 candidates, totalling 35 fits\n"
          ],
          "name": "stdout"
        },
        {
          "output_type": "stream",
          "text": [
            "[Parallel(n_jobs=4)]: Using backend LokyBackend with 4 concurrent workers.\n",
            "[Parallel(n_jobs=4)]: Batch computation too fast (0.0198s.) Setting batch_size=2.\n",
            "[Parallel(n_jobs=4)]: Done   5 tasks      | elapsed:    0.1s\n",
            "[Parallel(n_jobs=4)]: Batch computation too fast (0.0716s.) Setting batch_size=4.\n",
            "[Parallel(n_jobs=4)]: Done  12 tasks      | elapsed:    0.1s\n",
            "[Parallel(n_jobs=4)]: Done  25 tasks      | elapsed:    1.7s\n",
            "[Parallel(n_jobs=4)]: Done  32 out of  35 | elapsed:   18.1s remaining:    1.7s\n"
          ],
          "name": "stderr"
        },
        {
          "output_type": "stream",
          "text": [
            "Best score: 0.854\n",
            "Best Parameters set:\n",
            "\tC: 0.01\n",
            "\tdegree: 2\n",
            "\tkernel: 'poly'\n",
            "[0.8537193  0.8537193  0.8537193  0.8537193  0.8537193  0.85105263\n",
            " 0.8537193 ]\n",
            "Train Accuracy : 0.8537234042553191\n",
            "[0.8537193  0.8537193  0.8537193  0.8537193  0.8537193  0.85105263\n",
            " 0.8537193 ]\n",
            "Test Accuracy : 0.8404255319148937\n"
          ],
          "name": "stdout"
        },
        {
          "output_type": "stream",
          "text": [
            "[Parallel(n_jobs=4)]: Done  35 out of  35 | elapsed:   21.8s finished\n"
          ],
          "name": "stderr"
        }
      ]
    },
    {
      "cell_type": "code",
      "metadata": {
        "id": "xTFmN7v4FqXH",
        "outputId": "d0cf14aa-5512-484d-b969-8d0b27e89088",
        "colab": {
          "base_uri": "https://localhost:8080/"
        }
      },
      "source": [
        "from sklearn.metrics import f1_score, fbeta_score, make_scorer\n",
        "ftwo_scorer=metrics.make_scorer(fbeta_score, average='micro', beta=2)\n",
        "param_grid={\n",
        "            'kernel': ['rbf'],\n",
        "            'C': [0.01,0.1, 1, 10, 100, 1000,10000,100000],\n",
        "            'gamma': [1]\n",
        "             }\n",
        "classifier=SVC()\n",
        "\n",
        "model=GridSearchCV(estimator=classifier, param_grid=param_grid, scoring=ftwo_scorer,verbose=10, n_jobs=4, cv=5)\n",
        "\n",
        "model.fit(x_train, y_train)\n",
        "print(\"Best score: %0.3f\" % model.best_score_)\n",
        "print(\"Best Parameters set:\")\n",
        "best_parameters=model.best_estimator_.get_params()\n",
        "\n",
        "for param_name in sorted(param_grid.keys()):\n",
        "    print(\"\\t%s: %r\" % (param_name, best_parameters[param_name]))\n",
        "\n",
        "#for train set accuracy\n",
        "predictions_rbf=model.predict(x_train)\n",
        "print(model.cv_results_['mean_test_score'])\n",
        "print(\"Train Accuracy :\" ,accuracy_score(y_train,predictions_rbf))\n",
        "\n",
        "#for test set accuracy\n",
        "predictions=model.predict(x_test)\n",
        "print(model.cv_results_['mean_test_score'])  \n",
        "print(\"Test Accuracy :\" ,accuracy_score(y_test,predictions))                    "
      ],
      "execution_count": 29,
      "outputs": [
        {
          "output_type": "stream",
          "text": [
            "Fitting 5 folds for each of 8 candidates, totalling 40 fits\n"
          ],
          "name": "stdout"
        },
        {
          "output_type": "stream",
          "text": [
            "[Parallel(n_jobs=4)]: Using backend LokyBackend with 4 concurrent workers.\n",
            "[Parallel(n_jobs=4)]: Batch computation too fast (0.0261s.) Setting batch_size=2.\n",
            "[Parallel(n_jobs=4)]: Done   5 tasks      | elapsed:    0.1s\n",
            "[Parallel(n_jobs=4)]: Batch computation too fast (0.1142s.) Setting batch_size=4.\n",
            "[Parallel(n_jobs=4)]: Done  12 tasks      | elapsed:    0.2s\n"
          ],
          "name": "stderr"
        },
        {
          "output_type": "stream",
          "text": [
            "Best score: 0.854\n",
            "Best Parameters set:\n",
            "\tC: 0.01\n",
            "\tgamma: 1\n",
            "\tkernel: 'rbf'\n",
            "[0.8537193  0.8537193  0.8537193  0.83778947 0.83512281 0.83512281\n",
            " 0.83512281 0.83512281]\n",
            "Train Accuracy : 0.8537234042553191\n",
            "[0.8537193  0.8537193  0.8537193  0.83778947 0.83512281 0.83512281\n",
            " 0.83512281 0.83512281]\n",
            "Test Accuracy : 0.8404255319148937\n"
          ],
          "name": "stdout"
        },
        {
          "output_type": "stream",
          "text": [
            "[Parallel(n_jobs=4)]: Done  28 out of  40 | elapsed:    0.3s remaining:    0.1s\n",
            "[Parallel(n_jobs=4)]: Done  40 out of  40 | elapsed:    0.4s finished\n"
          ],
          "name": "stderr"
        }
      ]
    },
    {
      "cell_type": "markdown",
      "metadata": {
        "id": "IzSU8BNIyVRQ"
      },
      "source": [
        "# Task 2"
      ]
    },
    {
      "cell_type": "code",
      "metadata": {
        "id": "msgHbB5Z94aP"
      },
      "source": [
        "from mpl_toolkits.mplot3d import Axes3D\n",
        "from sklearn.preprocessing import StandardScaler\n",
        "import matplotlib.pyplot as plt # plotting\n",
        "import numpy as np # linear algebra\n",
        "import os # accessing directory structure\n",
        "import pandas as pd # data processing, CSV file I/O (e.g. pd.read_csv)\n",
        "from matplotlib.colors import Normalize\n",
        "from sklearn.svm import SVC\n",
        "from sklearn.model_selection import StratifiedShuffleSplit\n",
        "from sklearn.model_selection import GridSearchCV\n",
        "from sklearn.decomposition import PCA"
      ],
      "execution_count": 31,
      "outputs": []
    },
    {
      "cell_type": "code",
      "metadata": {
        "id": "6QnFhP5U2M0X"
      },
      "source": [
        "import requests\n",
        "from io import StringIO\n",
        "orig_url='https://drive.google.com/file/d/1b67gIURmd06jQA1nKoa1Dh-_P1pHfaIW/view?usp=sharing'\n",
        "\n",
        "file_id = orig_url.split('/')[-2]\n",
        "dwn_url='https://drive.google.com/uc?export=download&id=' + file_id\n",
        "url = requests.get(dwn_url).text\n",
        "csv_raw = StringIO(url)\n",
        "data2 = pd.read_csv(csv_raw)"
      ],
      "execution_count": 32,
      "outputs": []
    },
    {
      "cell_type": "code",
      "metadata": {
        "id": "8Or1KoUE2hyC"
      },
      "source": [
        "data2=data2.drop('id', axis=1)"
      ],
      "execution_count": 33,
      "outputs": []
    },
    {
      "cell_type": "code",
      "metadata": {
        "id": "9LTMMCkU2Y7J"
      },
      "source": [
        "data2[['PRE7', 'PRE8', 'PRE9', 'PRE10', 'PRE11', 'PRE17', 'PRE19', 'PRE25', 'PRE30', 'PRE32', 'Risk1Yr']] = \\\n",
        "(data2[['PRE7', 'PRE8', 'PRE9', 'PRE10', 'PRE11', 'PRE17', 'PRE19', 'PRE25', 'PRE30', 'PRE32', 'Risk1Yr']] == 'T').astype(int)\n",
        "data2['DGN']   = data2['DGN'].str[-1:].astype(int)\n",
        "data2['PRE6']  = data2['PRE6'].str[-1:].astype(int)\n",
        "data2['PRE14'] = data2['PRE14'].str[-1:].astype(int)"
      ],
      "execution_count": 34,
      "outputs": []
    },
    {
      "cell_type": "code",
      "metadata": {
        "id": "vB_o0uTc18-_"
      },
      "source": [
        "from sklearn.model_selection import train_test_split \n",
        "# Feature selection -- To be implemented later on\n",
        "X2 = data2.drop('Risk1Yr', axis=1) \n",
        "\n",
        "Y2 = data2.Risk1Yr \n",
        "# Splitting into train sets and test sets\n",
        "X2_train, X2_test, Y2_train, Y2_test = train_test_split(X2, Y2, test_size = 0.2,random_state=107) "
      ],
      "execution_count": 35,
      "outputs": []
    },
    {
      "cell_type": "markdown",
      "metadata": {
        "id": "BrG2P8BjyYzb"
      },
      "source": [
        "## part a\n"
      ]
    },
    {
      "cell_type": "markdown",
      "metadata": {
        "id": "mNug8cTFCpvX"
      },
      "source": [
        "##Building a MLP classifier using Sklearn-"
      ]
    },
    {
      "cell_type": "markdown",
      "metadata": {
        "id": "STExwv_dDW3d"
      },
      "source": [
        "Initialising classifier with required parameters - "
      ]
    },
    {
      "cell_type": "code",
      "metadata": {
        "id": "_gibWR9mCpYo"
      },
      "source": [
        "#Importing MLPClassifier\n",
        "from sklearn.neural_network import MLPClassifier\n",
        "from sklearn.metrics import confusion_matrix\n",
        "from sklearn.metrics import accuracy_score"
      ],
      "execution_count": 36,
      "outputs": []
    },
    {
      "cell_type": "markdown",
      "metadata": {
        "id": "RS5692FHEvwz"
      },
      "source": [
        "Defining function to measure accuracy-"
      ]
    },
    {
      "cell_type": "code",
      "metadata": {
        "id": "DuORM13xEnmp"
      },
      "source": [
        "#Function to measure accuracy\n",
        "def accuracy(confusion_matrix):\n",
        "   diagonal_sum = confusion_matrix.trace()\n",
        "   sum_of_all_elements = confusion_matrix.sum()\n",
        "   return diagonal_sum / sum_of_all_elements"
      ],
      "execution_count": 61,
      "outputs": []
    },
    {
      "cell_type": "markdown",
      "metadata": {
        "id": "ed5RrB69oo7N"
      },
      "source": [
        "##(i) No Hidden layer"
      ]
    },
    {
      "cell_type": "markdown",
      "metadata": {
        "id": "vOMg5moZD5JY"
      },
      "source": [
        "Using the Trained model to predict -"
      ]
    },
    {
      "cell_type": "code",
      "metadata": {
        "id": "VUlfmGDmoYoY",
        "outputId": "ff9a4f07-cdf3-408c-dd02-48f01fffd342",
        "colab": {
          "base_uri": "https://localhost:8080/"
        }
      },
      "source": [
        "#Initializing the MLPClassifier\n",
        "MLP_Classifier = MLPClassifier(hidden_layer_sizes=(),max_iter=300,activation = 'relu',solver='adam',random_state=1)\n",
        "MLP_Classifier.fit(X2_train, Y2_train)\n",
        "#Predicting y for X2_test\n",
        "y_pred = MLP_Classifier.predict(X2_test)\n",
        "#Comparing the predictions against the actual observations in y_val\n",
        "cm = confusion_matrix(y_pred, Y2_test)\n",
        "#printing the\n",
        "print(accuracy(cm)*100)"
      ],
      "execution_count": 60,
      "outputs": [
        {
          "output_type": "stream",
          "text": [
            "84.04255319148936\n"
          ],
          "name": "stdout"
        }
      ]
    },
    {
      "cell_type": "markdown",
      "metadata": {
        "id": "EM2knoCiFI97"
      },
      "source": [
        "##(ii)\t1 hidden layer with 2 nodes"
      ]
    },
    {
      "cell_type": "code",
      "metadata": {
        "id": "kfFPcMyMFC13",
        "outputId": "b12c4ce1-55cf-437f-e018-22c7cc482074",
        "colab": {
          "base_uri": "https://localhost:8080/"
        }
      },
      "source": [
        "#Initializing the MLPClassifier\n",
        "MLP_Classifier2 = MLPClassifier(hidden_layer_sizes=(2),max_iter=300,activation = 'relu',solver='adam')\n",
        "MLP_Classifier2.fit(X2_train, Y2_train)\n",
        "#Predicting y for X2_test\n",
        "y_pred = MLP_Classifier2.predict(X2_test)\n",
        "#Comparing the predictions against the actual observations in y_val\n",
        "cm2 = confusion_matrix(y_pred, Y2_test)\n",
        "#printing the acccuracy\n",
        "print(accuracy(cm2)*100)"
      ],
      "execution_count": 63,
      "outputs": [
        {
          "output_type": "stream",
          "text": [
            "84.04255319148936\n"
          ],
          "name": "stdout"
        }
      ]
    },
    {
      "cell_type": "markdown",
      "metadata": {
        "id": "-IMx5Fq_pSyU"
      },
      "source": [
        "##(iii)\t1 hidden layer with 6 nodes"
      ]
    },
    {
      "cell_type": "code",
      "metadata": {
        "id": "GsRFcntrpSP7",
        "outputId": "cfcdb9db-ce1c-44d2-ea81-dc85af084c63",
        "colab": {
          "base_uri": "https://localhost:8080/"
        }
      },
      "source": [
        "#Initializing the MLPClassifier\n",
        "MLP_Classifier3 = MLPClassifier(hidden_layer_sizes=(6),max_iter=300,activation = 'relu',solver='adam',random_state=1)\n",
        "MLP_Classifier3.fit(X2_train, Y2_train)\n",
        "#Predicting y for X2_test\n",
        "y_pred = MLP_Classifier3.predict(X2_test)\n",
        "#Comparing the predictions against the actual observations in y_val\n",
        "cm = confusion_matrix(y_pred, Y2_test)\n",
        "#printing the acccuracy\n",
        "print(accuracy(cm)*100)"
      ],
      "execution_count": 40,
      "outputs": [
        {
          "output_type": "stream",
          "text": [
            "84.04255319148936\n"
          ],
          "name": "stdout"
        }
      ]
    },
    {
      "cell_type": "markdown",
      "metadata": {
        "id": "veTnmMOEpaY5"
      },
      "source": [
        "##(iv)\t2 hidden layer with 2 and 3 nodes"
      ]
    },
    {
      "cell_type": "code",
      "metadata": {
        "id": "N4L1F5KMpOCf",
        "outputId": "63832b02-50ad-42ff-e9b2-548ac9005361",
        "colab": {
          "base_uri": "https://localhost:8080/"
        }
      },
      "source": [
        "#Initializing the MLPClassifier\n",
        "MLP_Classifier4 = MLPClassifier(hidden_layer_sizes=(2,3),solver='adam')\n",
        "MLP_Classifier4.fit(X2_train, Y2_train)\n",
        "#Predicting y for X2_test\n",
        "y_pred = MLP_Classifier4.predict(X2_test)\n",
        "#Comparing the predictions against the actual observations in y_val\n",
        "cm = confusion_matrix(y_pred, Y2_test)\n",
        "#printing the acccuracy\n",
        "print(accuracy(cm)*100)"
      ],
      "execution_count": 44,
      "outputs": [
        {
          "output_type": "stream",
          "text": [
            "84.04255319148936\n"
          ],
          "name": "stdout"
        }
      ]
    },
    {
      "cell_type": "markdown",
      "metadata": {
        "id": "Zwpp-5BetYo6"
      },
      "source": [
        "##(v)\t2 hidden layer with 3 and 2 nodes"
      ]
    },
    {
      "cell_type": "code",
      "metadata": {
        "id": "cxN5eYtptdiJ",
        "outputId": "8d00e08c-709d-4e9c-fc5a-84f99f321a57",
        "colab": {
          "base_uri": "https://localhost:8080/"
        }
      },
      "source": [
        "#Initializing the MLPClassifier\n",
        "MLP_Classifier = MLPClassifier(hidden_layer_sizes=(3,2),activation = 'relu',solver='adam',learning_rate_init=0.001)\n",
        "MLP_Classifier.fit(X2_train, Y2_train)\n",
        "#Predicting y for X2_test\n",
        "y_pred = MLP_Classifier.predict(X2_test)\n",
        "#Comparing the predictions against the actual observations in y_val\n",
        "cm = confusion_matrix(y_pred, Y2_test)\n",
        "#printing the acccuracy\n",
        "print(accuracy(cm)*100)"
      ],
      "execution_count": 45,
      "outputs": [
        {
          "output_type": "stream",
          "text": [
            "84.04255319148936\n"
          ],
          "name": "stdout"
        }
      ]
    },
    {
      "cell_type": "markdown",
      "metadata": {
        "id": "VOHK9W-25JMf"
      },
      "source": [
        "### Task(b) To plot accuracy v/s learning rate\n",
        " "
      ]
    },
    {
      "cell_type": "markdown",
      "metadata": {
        "id": "mu1f7U_v9jR8"
      },
      "source": [
        "(i) for no hidden *layers*"
      ]
    },
    {
      "cell_type": "code",
      "metadata": {
        "id": "gjb7Td6K5l5H",
        "outputId": "d14c1366-6d13-4c52-d6c8-7db990f45846",
        "colab": {
          "base_uri": "https://localhost:8080/",
          "height": 365
        }
      },
      "source": [
        "#Create a list of learning rates \n",
        "learning_rates=[0.1, 0.01, 0.001, 0.0001, 0.00001]\n",
        "test_score = []\n",
        "for lr in learning_rates:\n",
        "    mlp = MLPClassifier(hidden_layer_sizes=(2), max_iter=1000,\n",
        "                solver='adam', random_state=1,\n",
        "                learning_rate_init=lr)\n",
        "\n",
        "    mlp.fit(X2_train, Y2_train)\n",
        "    #Predicting y for X2_test\n",
        "    y_pred = MLP_Classifier.predict(X2_test)\n",
        "    #Comparing the predictions against the actual observations in y_val\n",
        "    cm = confusion_matrix(y_pred, Y2_test)\n",
        "    #printing the acccuracy\n",
        "    #print(accuracy(cm)*100)\n",
        "    #print(\"Training set score: %f\" % mlp.score(X2_train, Y2_train))\n",
        "    print(\"Test set score: %f\" % mlp.score(X2_test, Y2_test))\n",
        "    test_score.append(mlp.score(X2_test, Y2_test))\n",
        "plt.plot(learning_rates,test_score, 'ro')\n",
        "plt.ylabel('Accuracy')\n",
        "plt.xlabel('Learning_rate')\n",
        "plt.show()"
      ],
      "execution_count": 49,
      "outputs": [
        {
          "output_type": "stream",
          "text": [
            "Test set score: 0.840426\n",
            "Test set score: 0.840426\n",
            "Test set score: 0.840426\n",
            "Test set score: 0.159574\n",
            "Test set score: 0.159574\n"
          ],
          "name": "stdout"
        },
        {
          "output_type": "display_data",
          "data": {
            "image/png": "[encoded data removed]",
            "text/plain": [
              "<Figure size 432x288 with 1 Axes>"
            ]
          },
          "metadata": {
            "tags": [],
            "needs_background": "light"
          }
        }
      ]
    },
    {
      "cell_type": "markdown",
      "metadata": {
        "id": "Ob3Sj70P-gBk"
      },
      "source": [
        "ii)"
      ]
    },
    {
      "cell_type": "code",
      "metadata": {
        "id": "DHM1YTFp98Ig",
        "outputId": "5fa698c6-9805-4032-ef49-1c35dbe672f7",
        "colab": {
          "base_uri": "https://localhost:8080/",
          "height": 453
        }
      },
      "source": [
        "#Create a list of learning rates \n",
        "learning_rates=[ 0.1, 0.01, 0.001, 0.0001, 0.00001]\n",
        "test_score = []\n",
        "for lr in learning_rates:\n",
        "    mlp = MLPClassifier(hidden_layer_sizes=(2), max_iter=200,\n",
        "                solver='adam', random_state=1,\n",
        "                learning_rate_init=lr)\n",
        "\n",
        "    mlp.fit(X2_train, Y2_train)\n",
        "    #Predicting y for X2_test\n",
        "    y_pred = MLP_Classifier.predict(X2_test)\n",
        "    #Comparing the predictions against the actual observations in y_val\n",
        "    cm = confusion_matrix(y_pred, Y2_test)\n",
        "    #printing the acccuracy\n",
        "    #print(accuracy(cm)*100)\n",
        "    print(\"Training set score: %f\" % mlp.score(X2_train, Y2_train))\n",
        "    test_score.append(mlp.score(X2_test, Y2_test))\n",
        "    #print(\"Test set score: %f\" % )\n",
        "plt.plot(learning_rates,test_score, 'ro')\n",
        "plt.ylabel('Accuracy')\n",
        "plt.xlabel('Learning_rate')\n",
        "plt.show()    "
      ],
      "execution_count": 64,
      "outputs": [
        {
          "output_type": "stream",
          "text": [
            "Training set score: 0.853723\n",
            "Training set score: 0.853723\n"
          ],
          "name": "stdout"
        },
        {
          "output_type": "stream",
          "text": [
            "/usr/local/lib/python3.6/dist-packages/sklearn/neural_network/_multilayer_perceptron.py:571: ConvergenceWarning: Stochastic Optimizer: Maximum iterations (200) reached and the optimization hasn't converged yet.\n",
            "  % self.max_iter, ConvergenceWarning)\n",
            "/usr/local/lib/python3.6/dist-packages/sklearn/neural_network/_multilayer_perceptron.py:571: ConvergenceWarning: Stochastic Optimizer: Maximum iterations (200) reached and the optimization hasn't converged yet.\n",
            "  % self.max_iter, ConvergenceWarning)\n"
          ],
          "name": "stderr"
        },
        {
          "output_type": "stream",
          "text": [
            "Training set score: 0.146277\n",
            "Training set score: 0.146277\n",
            "Training set score: 0.146277\n"
          ],
          "name": "stdout"
        },
        {
          "output_type": "display_data",
          "data": {
            "image/png": "[encoded data removed]",
            "text/plain": [
              "<Figure size 432x288 with 1 Axes>"
            ]
          },
          "metadata": {
            "tags": [],
            "needs_background": "light"
          }
        }
      ]
    },
    {
      "cell_type": "markdown",
      "metadata": {
        "id": "kB5qe40F-diG"
      },
      "source": [
        "iii)"
      ]
    },
    {
      "cell_type": "code",
      "metadata": {
        "id": "NXJsh9Bv983x",
        "outputId": "a7d9433f-96f3-4416-bd8d-8bc6687e7954",
        "colab": {
          "base_uri": "https://localhost:8080/",
          "height": 365
        }
      },
      "source": [
        "#Create a list of learning rates \n",
        "learning_rates=[ 0.1, 0.01, 0.001, 0.0001, 0.00001]\n",
        "test_score = []\n",
        "for lr in learning_rates:\n",
        "    mlp = MLPClassifier(hidden_layer_sizes=(2), max_iter=1000,\n",
        "                solver='adam', random_state=1,\n",
        "                learning_rate_init=lr)\n",
        "\n",
        "    mlp.fit(X2_train, Y2_train)\n",
        "    #Predicting y for X2_test\n",
        "    y_pred = MLP_Classifier.predict(X2_test)\n",
        "    #Comparing the predictions against the actual observations in y_val\n",
        "    cm = confusion_matrix(y_pred, Y2_test)\n",
        "    #printing the acccuracy\n",
        "    #print(accuracy(cm)*100)\n",
        "    #print(\"Training set score: %f\" % mlp.score(X2_train, Y2_train))\n",
        "    test_score.append(mlp.score(X2_test, Y2_test))\n",
        "    print(\"Test set score: %f\" % mlp.score(X2_test, Y2_test))\n",
        "plt.plot(learning_rates,test_score, 'ro')\n",
        "plt.ylabel('Accuracy')\n",
        "plt.xlabel('Learning_rate')\n",
        "plt.show()    "
      ],
      "execution_count": 59,
      "outputs": [
        {
          "output_type": "stream",
          "text": [
            "Test set score: 0.840426\n",
            "Test set score: 0.840426\n",
            "Test set score: 0.840426\n",
            "Test set score: 0.159574\n",
            "Test set score: 0.159574\n"
          ],
          "name": "stdout"
        },
        {
          "output_type": "display_data",
          "data": {
            "image/png": "[encoded data removed]",
            "text/plain": [
              "<Figure size 432x288 with 1 Axes>"
            ]
          },
          "metadata": {
            "tags": [],
            "needs_background": "light"
          }
        }
      ]
    },
    {
      "cell_type": "markdown",
      "metadata": {
        "id": "jwe4DYma-lqY"
      },
      "source": [
        "iv)"
      ]
    },
    {
      "cell_type": "code",
      "metadata": {
        "id": "oCJ_Nbjf99O6",
        "outputId": "9a52aef9-a033-4dc0-f507-6b5ba10575be",
        "colab": {
          "base_uri": "https://localhost:8080/",
          "height": 453
        }
      },
      "source": [
        "#Create a list of learning rates \n",
        "learning_rates=[ 0.1, 0.01, 0.001, 0.0001, 0.00001]\n",
        "test_score = []\n",
        "for lr in learning_rates:\n",
        "    mlp = MLPClassifier(hidden_layer_sizes=(2), max_iter=100,\n",
        "                solver='adam', random_state=1,\n",
        "                learning_rate_init=lr)\n",
        "\n",
        "    mlp.fit(X2_train, Y2_train)\n",
        "    #Predicting y for X2_test\n",
        "    y_pred = MLP_Classifier.predict(X2_test)\n",
        "    #Comparing the predictions against the actual observations in y_val\n",
        "    cm = confusion_matrix(y_pred, Y2_test)\n",
        "    #printing the acccuracy\n",
        "    #print(accuracy(cm)*100)\n",
        "    #print(\"Training set score: %f\" % mlp.score(X2_train, Y2_train))\n",
        "    print(\"Test set score: %f\" % mlp.score(X2_test, Y2_test))\n",
        "    test_score.append(mlp.score(X2_test, Y2_test))\n",
        "plt.plot(learning_rates,test_score, 'ro')\n",
        "plt.ylabel('Accuracy')\n",
        "plt.xlabel('Learning_rate')\n",
        "plt.show()"
      ],
      "execution_count": 56,
      "outputs": [
        {
          "output_type": "stream",
          "text": [
            "Test set score: 0.840426\n",
            "Test set score: 0.840426\n",
            "Test set score: 0.159574\n",
            "Test set score: 0.159574\n",
            "Test set score: 0.159574\n"
          ],
          "name": "stdout"
        },
        {
          "output_type": "stream",
          "text": [
            "/usr/local/lib/python3.6/dist-packages/sklearn/neural_network/_multilayer_perceptron.py:571: ConvergenceWarning: Stochastic Optimizer: Maximum iterations (100) reached and the optimization hasn't converged yet.\n",
            "  % self.max_iter, ConvergenceWarning)\n",
            "/usr/local/lib/python3.6/dist-packages/sklearn/neural_network/_multilayer_perceptron.py:571: ConvergenceWarning: Stochastic Optimizer: Maximum iterations (100) reached and the optimization hasn't converged yet.\n",
            "  % self.max_iter, ConvergenceWarning)\n"
          ],
          "name": "stderr"
        },
        {
          "output_type": "display_data",
          "data": {
            "image/png": "[encoded data removed]",
            "text/plain": [
              "<Figure size 432x288 with 1 Axes>"
            ]
          },
          "metadata": {
            "tags": [],
            "needs_background": "light"
          }
        }
      ]
    },
    {
      "cell_type": "markdown",
      "metadata": {
        "id": "N0lWOq4g-nM-"
      },
      "source": [
        "v)"
      ]
    },
    {
      "cell_type": "code",
      "metadata": {
        "id": "p05oR4ZJ98ef",
        "outputId": "74124481-ce39-4ba3-f900-8e11dcf43652",
        "colab": {
          "base_uri": "https://localhost:8080/",
          "height": 365
        }
      },
      "source": [
        "#Create a list of learning rates \n",
        "learning_rates=[ 0.1, 0.01, 0.001, 0.0001, 0.00001]\n",
        "test_score=[]\n",
        "for lr in learning_rates:\n",
        "    mlp = MLPClassifier(hidden_layer_sizes=(2), max_iter=1000,\n",
        "                solver='adam', random_state=1,\n",
        "                learning_rate_init=lr)\n",
        "\n",
        "    mlp.fit(X2_train, Y2_train)\n",
        "    #Predicting y for X2_test\n",
        "    y_pred = MLP_Classifier.predict(X2_test)\n",
        "    #Comparing the predictions against the actual observations in y_val\n",
        "    cm = confusion_matrix(y_pred, Y2_test)\n",
        "    #printing the acccuracy\n",
        "    #print(accuracy(cm)*100)\n",
        "    #print(\"Training set score: %f\" % mlp.score(X2_train, Y2_train))\n",
        "    print(\"Test set score: %f\" % mlp.score(X2_test, Y2_test))\n",
        "    test_score.append(mlp.score(X2_test, Y2_test))\n",
        "plt.plot(learning_rates,test_score, 'ro')\n",
        "plt.ylabel('Accuracy')\n",
        "plt.xlabel('Learning_rate')\n",
        "plt.show()"
      ],
      "execution_count": 57,
      "outputs": [
        {
          "output_type": "stream",
          "text": [
            "Test set score: 0.840426\n",
            "Test set score: 0.840426\n",
            "Test set score: 0.840426\n",
            "Test set score: 0.159574\n",
            "Test set score: 0.159574\n"
          ],
          "name": "stdout"
        },
        {
          "output_type": "display_data",
          "data": {
            "image/png": "[encoded data removed]",
            "text/plain": [
              "<Figure size 432x288 with 1 Axes>"
            ]
          },
          "metadata": {
            "tags": [],
            "needs_background": "light"
          }
        }
      ]
    },
    {
      "cell_type": "markdown",
      "metadata": {
        "id": "Iy_-hpnekPgS"
      },
      "source": [
        "##task(b) plot accuracy vs learning_rate for each of the architecture"
      ]
    },
    {
      "cell_type": "code",
      "metadata": {
        "id": "gV3Wx45XkcH4"
      },
      "source": [
        ""
      ],
      "execution_count": null,
      "outputs": []
    },
    {
      "cell_type": "code",
      "metadata": {
        "id": "N5p5bQ45XmdP",
        "outputId": "0270731c-0e1c-4755-fdf1-538829efb2b3",
        "colab": {
          "base_uri": "https://localhost:8080/"
        }
      },
      "source": [
        "learning_rates = [0.1, 0.01, 0.001, 0.0001, 0.00001]\n",
        "hidden_layers_nodes = ((),(2),(6),(2,3),(3,2))\n",
        "\n",
        "best_accuracy = 0;\n",
        "best_learning_rate = 0;\n",
        "best_architecture = 0;\n",
        "learning_rates_index = [];\n",
        "accuracy_index = [];\n",
        "architecture_index = [];\n",
        "\n",
        "for lr in learning_rates:\n",
        "  for node in hidden_layers_nodes:\n",
        "    mlp = MLPClassifier(learning_rate= 'constant', learning_rate_init= lr, hidden_layer_sizes= node, solver='sgd')\n",
        "    mlp.fit(X2_train,Y2_train)\n",
        "    test_y_pred = mlp.predict(X2_test)\n",
        "    accuracy = accuracy_score(Y2_test, test_y_pred)*100\n",
        "    print('for hidden layer size ',node,'with learning rate ',lr, 'accuracy is : ',accuracy)\n",
        "    learning_rates_index.append(lr)\n",
        "    accuracy_index.append(accuracy)\n",
        "    architecture_index.append(node)\n",
        "\n",
        "    if(accuracy > best_accuracy):\n",
        "      best_accuracy = accuracy\n",
        "      best_learning_rate = lr\n",
        "      best_architecture = node\n",
        "\n",
        "\n",
        "print('best architecture: ', best_architecture, 'with best learning rate: ',best_learning_rate, 'the best acuracy is : ',best_accuracy)\n",
        "\n"
      ],
      "execution_count": null,
      "outputs": [
        {
          "output_type": "stream",
          "text": [
            "for hidden layer size  () with learning rate  0.1 accuracy is :  84.04255319148936\n",
            "for hidden layer size  2 with learning rate  0.1 accuracy is :  84.04255319148936\n",
            "for hidden layer size  6 with learning rate  0.1 accuracy is :  84.04255319148936\n",
            "for hidden layer size  (2, 3) with learning rate  0.1 accuracy is :  84.04255319148936\n",
            "for hidden layer size  (3, 2) with learning rate  0.1 accuracy is :  84.04255319148936\n",
            "for hidden layer size  () with learning rate  0.01 accuracy is :  84.04255319148936\n",
            "for hidden layer size  2 with learning rate  0.01 accuracy is :  84.04255319148936\n",
            "for hidden layer size  6 with learning rate  0.01 accuracy is :  84.04255319148936\n",
            "for hidden layer size  (2, 3) with learning rate  0.01 accuracy is :  84.04255319148936\n",
            "for hidden layer size  (3, 2) with learning rate  0.01 accuracy is :  84.04255319148936\n",
            "for hidden layer size  () with learning rate  0.001 accuracy is :  84.04255319148936\n"
          ],
          "name": "stdout"
        },
        {
          "output_type": "stream",
          "text": [
            "/usr/local/lib/python3.6/dist-packages/sklearn/neural_network/_multilayer_perceptron.py:571: ConvergenceWarning: Stochastic Optimizer: Maximum iterations (200) reached and the optimization hasn't converged yet.\n",
            "  % self.max_iter, ConvergenceWarning)\n"
          ],
          "name": "stderr"
        },
        {
          "output_type": "stream",
          "text": [
            "for hidden layer size  2 with learning rate  0.001 accuracy is :  84.04255319148936\n",
            "for hidden layer size  6 with learning rate  0.001 accuracy is :  80.85106382978722\n",
            "for hidden layer size  (2, 3) with learning rate  0.001 accuracy is :  84.04255319148936\n",
            "for hidden layer size  (3, 2) with learning rate  0.001 accuracy is :  84.04255319148936\n",
            "for hidden layer size  () with learning rate  0.0001 accuracy is :  84.04255319148936\n",
            "for hidden layer size  2 with learning rate  0.0001 accuracy is :  84.04255319148936\n",
            "for hidden layer size  6 with learning rate  0.0001 accuracy is :  84.04255319148936\n",
            "for hidden layer size  (2, 3) with learning rate  0.0001 accuracy is :  84.04255319148936\n"
          ],
          "name": "stdout"
        },
        {
          "output_type": "stream",
          "text": [
            "/usr/local/lib/python3.6/dist-packages/sklearn/neural_network/_multilayer_perceptron.py:571: ConvergenceWarning: Stochastic Optimizer: Maximum iterations (200) reached and the optimization hasn't converged yet.\n",
            "  % self.max_iter, ConvergenceWarning)\n",
            "/usr/local/lib/python3.6/dist-packages/sklearn/neural_network/_multilayer_perceptron.py:571: ConvergenceWarning: Stochastic Optimizer: Maximum iterations (200) reached and the optimization hasn't converged yet.\n",
            "  % self.max_iter, ConvergenceWarning)\n"
          ],
          "name": "stderr"
        },
        {
          "output_type": "stream",
          "text": [
            "for hidden layer size  (3, 2) with learning rate  0.0001 accuracy is :  84.04255319148936\n",
            "for hidden layer size  () with learning rate  1e-05 accuracy is :  78.72340425531915\n",
            "for hidden layer size  2 with learning rate  1e-05 accuracy is :  15.957446808510639\n",
            "for hidden layer size  6 with learning rate  1e-05 accuracy is :  80.85106382978722\n",
            "for hidden layer size  (2, 3) with learning rate  1e-05 accuracy is :  15.957446808510639\n",
            "for hidden layer size  (3, 2) with learning rate  1e-05 accuracy is :  84.04255319148936\n",
            "best architecture:  () with best learning rate:  0.1 the best acuracy is :  84.04255319148936\n"
          ],
          "name": "stdout"
        },
        {
          "output_type": "stream",
          "text": [
            "/usr/local/lib/python3.6/dist-packages/sklearn/neural_network/_multilayer_perceptron.py:571: ConvergenceWarning: Stochastic Optimizer: Maximum iterations (200) reached and the optimization hasn't converged yet.\n",
            "  % self.max_iter, ConvergenceWarning)\n",
            "/usr/local/lib/python3.6/dist-packages/sklearn/neural_network/_multilayer_perceptron.py:571: ConvergenceWarning: Stochastic Optimizer: Maximum iterations (200) reached and the optimization hasn't converged yet.\n",
            "  % self.max_iter, ConvergenceWarning)\n"
          ],
          "name": "stderr"
        }
      ]
    },
    {
      "cell_type": "code",
      "metadata": {
        "id": "a7A3tODWgJvW",
        "outputId": "2d2f709a-f84e-4526-bf30-6c8eee02d9f4",
        "colab": {
          "base_uri": "https://localhost:8080/",
          "height": 513
        }
      },
      "source": [
        "import seaborn as sns\n",
        "plt.figure(figsize=(16,8))\n",
        "sns.barplot(x = learning_rates_index, y = accuracy_index, hue = architecture_index)\n",
        "\n",
        "plt.xlabel(\"Learning Rate\")\n",
        "plt.ylabel(\"Accuracy\")\n",
        "plt.title(\"Learning rate vs accuracy for each model\")\n",
        "plt.savefig('plot1.png',dpi=100)"
      ],
      "execution_count": null,
      "outputs": [
        {
          "output_type": "display_data",
          "data": {
            "image/png": "[encoded data removed]",
            "text/plain": [
              "<Figure size 1152x576 with 1 Axes>"
            ]
          },
          "metadata": {
            "tags": [],
            "needs_background": "light"
          }
        }
      ]
    }
  ]
}